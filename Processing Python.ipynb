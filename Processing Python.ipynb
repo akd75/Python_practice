{
 "cells": [
  {
   "cell_type": "code",
   "execution_count": 1,
   "metadata": {},
   "outputs": [
    {
     "name": "stdout",
     "output_type": "stream",
     "text": [
      "hello world\n"
     ]
    }
   ],
   "source": [
    "print('hello world')"
   ]
  },
  {
   "cell_type": "code",
   "execution_count": 3,
   "metadata": {},
   "outputs": [
    {
     "data": {
      "text/plain": [
       "[6, 6, 9, 9]"
      ]
     },
     "execution_count": 3,
     "metadata": {},
     "output_type": "execute_result"
    }
   ],
   "source": [
    "cities=['Dallas','Frisco', 'Hyderabad', 'Bengaluru']\n",
    "\n",
    "\n",
    "[len(city) for city in cities]    \n",
    "\n",
    "\n"
   ]
  },
  {
   "cell_type": "markdown",
   "metadata": {},
   "source": [
    "Create Python list of strings   \n",
    "Filter for COMPLETE orders  \n",
    "Get unique statuses(use map and set )  \n",
    "Sort the data based on order customer id "
   ]
  },
  {
   "cell_type": "code",
   "execution_count": 5,
   "metadata": {},
   "outputs": [],
   "source": [
    "orders = [\n",
    "    '1,2013-07-25 00:00:00.0,11599,CLOSED',\n",
    "    '2,2013-07-25 00:00:00.0,256,PENDING_PAYMENT',\n",
    "    '3,2013-07-25 00:00:00.0,12111,COMPLETE',\n",
    "    '4,2013-07-25 00:00:00.0,8827,CLOSED',\n",
    "    '5,2013-07-25 00:00:00.0,11318,COMPLETE',\n",
    "    '6,2013-07-25 00:00:00.0,7130,COMPLETE',\n",
    "    '7,2013-07-25 00:00:00.0,4530,COMPLETE',\n",
    "    '8,2013-07-25 00:00:00.0,2911,PROCESSING',\n",
    "    '9,2013-07-25 00:00:00.0,5657,PENDING_PAYMENT',\n",
    "    '10,2013-07-25 00:00:00.0,5648,PENDING_PAYMENT'\n",
    "]\n"
   ]
  },
  {
   "cell_type": "code",
   "execution_count": 21,
   "metadata": {},
   "outputs": [
    {
     "data": {
      "text/plain": [
       "['3,2013-07-25 00:00:00.0,12111,COMPLETE',\n",
       " '5,2013-07-25 00:00:00.0,11318,COMPLETE',\n",
       " '6,2013-07-25 00:00:00.0,7130,COMPLETE',\n",
       " '7,2013-07-25 00:00:00.0,4530,COMPLETE']"
      ]
     },
     "execution_count": 21,
     "metadata": {},
     "output_type": "execute_result"
    }
   ],
   "source": [
    "list(filter(lambda x:x.split(',')[3] =='COMPLETE' ,orders))"
   ]
  },
  {
   "cell_type": "code",
   "execution_count": 27,
   "metadata": {},
   "outputs": [
    {
     "data": {
      "text/plain": [
       "{'CLOSED', 'COMPLETE', 'PENDING_PAYMENT', 'PROCESSING'}"
      ]
     },
     "execution_count": 27,
     "metadata": {},
     "output_type": "execute_result"
    }
   ],
   "source": [
    "set(map(lambda x:x.split(',')[3],orders))"
   ]
  },
  {
   "cell_type": "code",
   "execution_count": 35,
   "metadata": {},
   "outputs": [
    {
     "data": {
      "text/plain": [
       "[256, 2911, 4530, 5648, 5657, 7130, 8827, 11318, 11599, 12111]"
      ]
     },
     "execution_count": 35,
     "metadata": {},
     "output_type": "execute_result"
    }
   ],
   "source": [
    "sorted(map(lambda x:int(x.split(',')[2]),orders))"
   ]
  },
  {
   "cell_type": "code",
   "execution_count": 41,
   "metadata": {},
   "outputs": [
    {
     "data": {
      "text/plain": [
       "['2,2013-07-25 00:00:00.0,256,PENDING_PAYMENT',\n",
       " '8,2013-07-25 00:00:00.0,2911,PROCESSING',\n",
       " '7,2013-07-25 00:00:00.0,4530,COMPLETE',\n",
       " '10,2013-07-25 00:00:00.0,5648,PENDING_PAYMENT',\n",
       " '9,2013-07-25 00:00:00.0,5657,PENDING_PAYMENT',\n",
       " '6,2013-07-25 00:00:00.0,7130,COMPLETE',\n",
       " '4,2013-07-25 00:00:00.0,8827,CLOSED',\n",
       " '5,2013-07-25 00:00:00.0,11318,COMPLETE',\n",
       " '1,2013-07-25 00:00:00.0,11599,CLOSED',\n",
       " '3,2013-07-25 00:00:00.0,12111,COMPLETE']"
      ]
     },
     "execution_count": 41,
     "metadata": {},
     "output_type": "execute_result"
    }
   ],
   "source": [
    "sorted(orders,key=lambda x:int(x.split(',')[2]))"
   ]
  },
  {
   "cell_type": "code",
   "execution_count": null,
   "metadata": {},
   "outputs": [],
   "source": []
  }
 ],
 "metadata": {
  "kernelspec": {
   "display_name": "pr-venv",
   "language": "python",
   "name": "python3"
  },
  "language_info": {
   "codemirror_mode": {
    "name": "ipython",
    "version": 3
   },
   "file_extension": ".py",
   "mimetype": "text/x-python",
   "name": "python",
   "nbconvert_exporter": "python",
   "pygments_lexer": "ipython3",
   "version": "3.10.12"
  },
  "orig_nbformat": 4
 },
 "nbformat": 4,
 "nbformat_minor": 2
}
